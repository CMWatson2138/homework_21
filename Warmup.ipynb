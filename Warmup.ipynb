{
 "cells": [
  {
   "cell_type": "code",
   "execution_count": 10,
   "metadata": {},
   "outputs": [
    {
     "name": "stdout",
     "output_type": "stream",
     "text": [
      "[\"Y'all\", \"I've\"]\n"
     ]
    }
   ],
   "source": [
    "import re\n",
    "\n",
    "this_string=\"Y'all are amazing, and I've loved teaching this class\"\n",
    "\n",
    "apost=re.findall(\"[\\w]+'[\\w]+\", this_string)\n",
    "print(apost)"
   ]
  },
  {
   "cell_type": "markdown",
   "metadata": {},
   "source": [
    "What is the main difference between CRUD and REST APIs?"
   ]
  },
  {
   "cell_type": "code",
   "execution_count": null,
   "metadata": {},
   "outputs": [],
   "source": [
    "create read update delete"
   ]
  },
  {
   "cell_type": "markdown",
   "metadata": {},
   "source": [
    "What is “state”? You may need to do additional research to come up with a good answer.  "
   ]
  },
  {
   "cell_type": "code",
   "execution_count": null,
   "metadata": {},
   "outputs": [],
   "source": []
  }
 ],
 "metadata": {
  "kernelspec": {
   "display_name": "Python 3",
   "language": "python",
   "name": "python3"
  },
  "language_info": {
   "codemirror_mode": {
    "name": "ipython",
    "version": 3
   },
   "file_extension": ".py",
   "mimetype": "text/x-python",
   "name": "python",
   "nbconvert_exporter": "python",
   "pygments_lexer": "ipython3",
   "version": "3.8.5"
  }
 },
 "nbformat": 4,
 "nbformat_minor": 4
}
